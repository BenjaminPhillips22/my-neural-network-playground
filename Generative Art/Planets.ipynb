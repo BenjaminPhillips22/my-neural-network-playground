{
  "nbformat": 4,
  "nbformat_minor": 0,
  "metadata": {
    "colab": {
      "name": "Planets.ipynb",
      "version": "0.3.2",
      "provenance": [],
      "collapsed_sections": [],
      "include_colab_link": true
    },
    "kernelspec": {
      "name": "python3",
      "display_name": "Python 3"
    },
    "accelerator": "GPU"
  },
  "cells": [
    {
      "cell_type": "markdown",
      "metadata": {
        "id": "view-in-github",
        "colab_type": "text"
      },
      "source": [
        "<a href=\"https://colab.research.google.com/github/BenjaminPhillips22/my-neural-network-playground/blob/master/Planets.ipynb\" target=\"_parent\"><img src=\"https://colab.research.google.com/assets/colab-badge.svg\" alt=\"Open In Colab\"/></a>"
      ]
    },
    {
      "metadata": {
        "id": "u8eDbA9Uq23S",
        "colab_type": "code",
        "colab": {}
      },
      "cell_type": "code",
      "source": [
        "import numpy as np\n",
        "import scipy    \n",
        "from scipy.spatial import distance_matrix\n",
        "\n",
        "from time import time\n",
        "import imageio\n",
        "\n",
        "from matplotlib import pyplot as plt\n",
        "from matplotlib import colors\n",
        "import numpy as np\n",
        "import seaborn as sns\n",
        "%matplotlib inline\n",
        "\n",
        "from google.colab import files"
      ],
      "execution_count": 0,
      "outputs": []
    },
    {
      "metadata": {
        "id": "XUbGWamPq24g",
        "colab_type": "code",
        "colab": {}
      },
      "cell_type": "code",
      "source": [
        "def plot_art(planets):\n",
        "    plt.cla()\n",
        "    ax.set_xticklabels([])\n",
        "    ax.set_yticklabels([])\n",
        "    ax.set_title('Planets!', fontsize=30)\n",
        "    ax.set_xlim(-1*WORLD_SIZE, WORLD_SIZE)\n",
        "    ax.set_ylim(-1*WORLD_SIZE, WORLD_SIZE)\n",
        "    \n",
        "    num_planets = planets.shape[0]\n",
        "    cmap = sns.color_palette('husl', n_colors=num_planets)  # a list of RGB tuples\n",
        "    for p in range(num_planets):\n",
        "        ax.scatter(planets[p, 0],\n",
        "                   planets[p, 1],\n",
        "                   color = cmap[p],\n",
        "                   alpha=0.9,\n",
        "                   s=planets[p, 6]*50\n",
        "                  )\n",
        "    \n",
        "    fig.canvas.draw()       # draw the canvas, cache the renderer\n",
        "    image = np.frombuffer(fig.canvas.tostring_rgb(), dtype='uint8')\n",
        "    image  = image.reshape(fig.canvas.get_width_height()[::-1] + (3,))\n",
        "    return image\n",
        "\n"
      ],
      "execution_count": 0,
      "outputs": []
    },
    {
      "metadata": {
        "id": "52TiSPQrC_Od",
        "colab_type": "code",
        "colab": {}
      },
      "cell_type": "code",
      "source": [
        "def update_pva(planets, planet_radii_pairs, dt=1):\n",
        "    \n",
        "    # update acc\n",
        "    dist = np.maximum(dist_matrix(planets), planet_radii_pairs)\n",
        "    G = GRAVITY\n",
        "    num_planets = planets.shape[0]\n",
        "    i = 0\n",
        "    a_tot = G*planets[:, 6, np.newaxis]/np.power(dist, 3)\n",
        "    x_acc_component = (planets[:, 0, np.newaxis] - np.transpose(planets[:, 0, np.newaxis])) * a_tot\n",
        "    y_acc_component = (planets[:, 1, np.newaxis] - np.transpose(planets[:, 1, np.newaxis])) * a_tot\n",
        "    x_acc_sum = np.nansum(x_acc_component, axis=0)\n",
        "    y_acc_sum = np.nansum(y_acc_component, axis=0)\n",
        "\n",
        "    # update x acc\n",
        "    planets[:, 4] = x_acc_sum\n",
        "    # update y acc\n",
        "    planets[:, 5] = y_acc_sum\n",
        "    \n",
        "    # update x vel\n",
        "    planets[:, 2] = planets[:, 2] + planets[:, 4] * dt\n",
        "    # update y vel\n",
        "    planets[:, 3] = planets[:, 3] + planets[:, 5] * dt\n",
        "        \n",
        "    # update x pos\n",
        "    planets[:, 0] = planets[:, 0] + planets[:, 2] * dt\n",
        "    # update y pos\n",
        "    planets[:, 1] = planets[:, 1] + planets[:, 3] * dt\n",
        "    \n",
        "    # if position hits wall\n",
        "    planets[:, 2] = np.array([vx*-1  if np.abs(x)>WORLD_SIZE else vx for x, vx in zip(planets[:, 0], planets[:, 2])])\n",
        "    planets[:, 3] = np.array([vy*-1  if np.abs(y)>WORLD_SIZE else vy for y, vy in zip(planets[:, 1], planets[:, 3])])\n",
        "    \n",
        "    \n",
        "\n",
        "def dist_matrix(planets):\n",
        "    a = planets[:, 0:2]\n",
        "    dist = distance_matrix(a, a)\n",
        "    return dist\n"
      ],
      "execution_count": 0,
      "outputs": []
    },
    {
      "metadata": {
        "id": "9wfn1U_f_hNS",
        "colab_type": "code",
        "colab": {}
      },
      "cell_type": "code",
      "source": [
        "def non_random_planets(num_planets):\n",
        "    planets = np.zeros((num_planets, 7))\n",
        "    planets[:, 6] = np.ones(num_planets)\n",
        "    \n",
        "    # weight of one planet\n",
        "    planets[0, 6] = 8\n",
        "    \n",
        "    planets[:, 0] = np.array([-2, 0, 2])*20\n",
        "    planets[:, 1] = np.array([2, -2, 2])*20\n",
        "    return planets"
      ],
      "execution_count": 0,
      "outputs": []
    },
    {
      "metadata": {
        "id": "lPW8gfO4Bw7K",
        "colab_type": "code",
        "outputId": "cbbb25cc-60ad-4011-ee78-5d47ee51c324",
        "colab": {
          "base_uri": "https://localhost:8080/",
          "height": 494
        }
      },
      "cell_type": "code",
      "source": [
        "np.random.seed(19891)\n",
        "\n",
        "GRAVITY = 20\n",
        "WORLD_SIZE = 40\n",
        "\n",
        "num_planets = 25\n",
        "planets = 2*np.random.rand(num_planets, 7)-1\n",
        "planets[:, 0:2] *= WORLD_SIZE*0.7\n",
        "planets[:, 2:4] *= 3\n",
        "planets[:, 4:6] *= 0\n",
        "planets[:, 6] = np.random.gamma(2, 2, num_planets)*0.8\n",
        "planets[0, 6] = 5\n",
        "planets[0, 1:6] = 0\n",
        "# planets = non_random_planets(num_planets)\n",
        "planet_radii = np.power(3*planets[:, 6]/(4*np.pi), 1/3)[np.newaxis]\n",
        "planet_radii_pairs = planet_radii + np.transpose(planet_radii)\n",
        "\n",
        "\n",
        "fig, ax = plt.subplots(figsize=(8,8))\n",
        "my_images = []\n",
        "\n",
        "time_steps = 50\n",
        "\n",
        "for t in range(time_steps):\n",
        "    my_images.append(plot_art(planets))\n",
        "    update_pva(planets, planet_radii_pairs, dt=2)\n",
        "    "
      ],
      "execution_count": 25,
      "outputs": [
        {
          "output_type": "display_data",
          "data": {
            "image/png": "[encoded data removed]",
            "text/plain": [
              "<Figure size 576x576 with 1 Axes>"
            ]
          },
          "metadata": {
            "tags": []
          }
        }
      ]
    },
    {
      "metadata": {
        "id": "AVXNev1ZEa5G",
        "colab_type": "code",
        "colab": {}
      },
      "cell_type": "code",
      "source": [
        "name = 'planets_' + str(time()) + '.gif'\n",
        "imageio.mimsave(name, my_images, fps=10)\n",
        "files.download(name)\n"
      ],
      "execution_count": 0,
      "outputs": []
    },
    {
      "metadata": {
        "id": "5ygnNPxIq3Jo",
        "colab_type": "code",
        "colab": {}
      },
      "cell_type": "code",
      "source": [
        ""
      ],
      "execution_count": 0,
      "outputs": []
    },
    {
      "metadata": {
        "id": "0gd87Zvsq3IY",
        "colab_type": "code",
        "colab": {}
      },
      "cell_type": "code",
      "source": [
        ""
      ],
      "execution_count": 0,
      "outputs": []
    },
    {
      "metadata": {
        "id": "Vly3rz0_q3C3",
        "colab_type": "code",
        "colab": {}
      },
      "cell_type": "code",
      "source": [
        ""
      ],
      "execution_count": 0,
      "outputs": []
    },
    {
      "metadata": {
        "id": "5Bs3jfsUq29q",
        "colab_type": "code",
        "colab": {}
      },
      "cell_type": "code",
      "source": [
        ""
      ],
      "execution_count": 0,
      "outputs": []
    }
  ]
}