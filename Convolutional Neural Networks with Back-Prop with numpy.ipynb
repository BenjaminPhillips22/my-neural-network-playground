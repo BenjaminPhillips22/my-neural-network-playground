{
 "cells": [
  {
   "cell_type": "code",
   "execution_count": 36,
   "metadata": {},
   "outputs": [],
   "source": [
    "import numpy as np\n",
    "import pandas as pd\n",
    "import os\n",
    "import matplotlib.pyplot as plt\n",
    "import matplotlib.gridspec as gridspec\n",
    "\n",
    "import input_data\n",
    "\n",
    "\n",
    "%matplotlib inline\n",
    "\n"
   ]
  },
  {
   "cell_type": "code",
   "execution_count": 4,
   "metadata": {},
   "outputs": [
    {
     "name": "stdout",
     "output_type": "stream",
     "text": [
      "Successfully downloaded train-images-idx3-ubyte.gz 9912422 bytes.\n",
      "Extracting .\\train-images-idx3-ubyte.gz\n",
      "Successfully downloaded train-labels-idx1-ubyte.gz 28881 bytes.\n",
      "Extracting .\\train-labels-idx1-ubyte.gz\n",
      "Successfully downloaded t10k-images-idx3-ubyte.gz 1648877 bytes.\n",
      "Extracting .\\t10k-images-idx3-ubyte.gz\n",
      "Successfully downloaded t10k-labels-idx1-ubyte.gz 4542 bytes.\n",
      "Extracting .\\t10k-labels-idx1-ubyte.gz\n"
     ]
    }
   ],
   "source": [
    "mnist = input_data.read_data_sets(train_dir='.')"
   ]
  },
  {
   "cell_type": "code",
   "execution_count": 9,
   "metadata": {},
   "outputs": [
    {
     "data": {
      "text/plain": [
       "(784,)"
      ]
     },
     "execution_count": 9,
     "metadata": {},
     "output_type": "execute_result"
    }
   ],
   "source": [
    "mnist.train.images[0].shape"
   ]
  },
  {
   "cell_type": "code",
   "execution_count": 129,
   "metadata": {},
   "outputs": [],
   "source": [
    "def plot_single_number(image_array):\n",
    "    \"\"\"\n",
    "    image_array is the array that represents a\n",
    "    single mnist image. it has shape (784, )\n",
    "    and needs to be reshaped.\n",
    "    \"\"\"\n",
    "    X = image_array\n",
    "    X = X.reshape([28, 28]);\n",
    "    plt.figure(figsize=(2, 2))\n",
    "    plt.gray()\n",
    "    plt.axis('off')\n",
    "    plt.imshow(X)\n",
    "    plt.show()"
   ]
  },
  {
   "cell_type": "code",
   "execution_count": 130,
   "metadata": {},
   "outputs": [
    {
     "data": {
      "image/png": "[encoded data removed]",
      "text/plain": [
       "<matplotlib.figure.Figure at 0x15d1dca12b0>"
      ]
     },
     "metadata": {},
     "output_type": "display_data"
    }
   ],
   "source": [
    "plot_single_number(mnist.train.images[99])"
   ]
  },
  {
   "cell_type": "code",
   "execution_count": 56,
   "metadata": {},
   "outputs": [
    {
     "data": {
      "image/png": "[encoded data removed]",
      "text/plain": [
       "<matplotlib.figure.Figure at 0x15d1d9736d8>"
      ]
     },
     "metadata": {},
     "output_type": "display_data"
    }
   ],
   "source": [
    "fig = plt.figure(figsize=(12,12))\n",
    "\n",
    "for i in range(1, 10):\n",
    "    ax = fig.add_subplot(1, 10, i)\n",
    "    X = mnist.train.images[i]\n",
    "    X = X.reshape([28, 28])\n",
    "    ax.axis('off')\n",
    "    ax.imshow(X)\n"
   ]
  },
  {
   "cell_type": "code",
   "execution_count": 58,
   "metadata": {},
   "outputs": [
    {
     "data": {
      "text/plain": [
       "array([3, 4, 6, 1, 8, 1, 0, 9, 8], dtype=uint8)"
      ]
     },
     "execution_count": 58,
     "metadata": {},
     "output_type": "execute_result"
    }
   ],
   "source": [
    "mnist.train.labels[1:10]"
   ]
  },
  {
   "cell_type": "code",
   "execution_count": 64,
   "metadata": {},
   "outputs": [
    {
     "name": "stdout",
     "output_type": "stream",
     "text": [
      "0.9960785\n",
      "0.0\n"
     ]
    }
   ],
   "source": [
    "print(np.max(mnist.train.images[0]))\n",
    "print(np.min(mnist.train.images[0]))\n"
   ]
  },
  {
   "cell_type": "code",
   "execution_count": 112,
   "metadata": {},
   "outputs": [],
   "source": [
    "def one_hot_encode_numbers(labels):\n",
    "    \n",
    "    if isinstance(labels, np.uint8):\n",
    "        num_labels = 1\n",
    "        labels = [labels]\n",
    "    else:\n",
    "        num_labels = labels.shape[0]\n",
    "        \n",
    "    one_hots = np.zeros(shape=(num_labels, 10))\n",
    "    \n",
    "    for i in range(num_labels):\n",
    "        one_hots[i, labels[i]]=1\n",
    "\n",
    "    return one_hots"
   ]
  },
  {
   "cell_type": "code",
   "execution_count": 118,
   "metadata": {},
   "outputs": [
    {
     "name": "stdout",
     "output_type": "stream",
     "text": [
      "[9 4 6 0 1 2 3 4 1]\n"
     ]
    },
    {
     "data": {
      "text/plain": [
       "array([[0., 0., 0., 0., 0., 0., 0., 0., 0., 1.],\n",
       "       [0., 0., 0., 0., 1., 0., 0., 0., 0., 0.],\n",
       "       [0., 0., 0., 0., 0., 0., 1., 0., 0., 0.],\n",
       "       [1., 0., 0., 0., 0., 0., 0., 0., 0., 0.],\n",
       "       [0., 1., 0., 0., 0., 0., 0., 0., 0., 0.],\n",
       "       [0., 0., 1., 0., 0., 0., 0., 0., 0., 0.],\n",
       "       [0., 0., 0., 1., 0., 0., 0., 0., 0., 0.],\n",
       "       [0., 0., 0., 0., 1., 0., 0., 0., 0., 0.],\n",
       "       [0., 1., 0., 0., 0., 0., 0., 0., 0., 0.]])"
      ]
     },
     "execution_count": 118,
     "metadata": {},
     "output_type": "execute_result"
    }
   ],
   "source": [
    "abc = mnist.train.labels[1100:1109]\n",
    "print(abc)\n",
    "one_hot_encode_numbers(abc)"
   ]
  },
  {
   "cell_type": "code",
   "execution_count": 189,
   "metadata": {},
   "outputs": [
    {
     "data": {
      "text/plain": [
       "(28, 28)"
      ]
     },
     "execution_count": 189,
     "metadata": {},
     "output_type": "execute_result"
    }
   ],
   "source": [
    "mnist.train.images[0:3][0].reshape(28, 28).shape\n",
    "# [i for i in 1]"
   ]
  },
  {
   "cell_type": "code",
   "execution_count": 206,
   "metadata": {},
   "outputs": [
    {
     "data": {
      "text/plain": [
       "(3, 28, 28)"
      ]
     },
     "execution_count": 206,
     "metadata": {},
     "output_type": "execute_result"
    }
   ],
   "source": [
    "def reshape_images(images):\n",
    "    \"\"\"\n",
    "    images is a np array of n images\n",
    "    each with size (784,) that need\n",
    "    to be reshaped\n",
    "    \"\"\"\n",
    "    # if it doesn't have a second dimension, it's a single image\n",
    "    try:\n",
    "        images.shape[1]\n",
    "    except:\n",
    "        return images.reshape(28, 28)\n",
    "    \n",
    "    reshaped = np.stack([images[i].reshape(28, 28) for i in range(images.shape[0])])\n",
    "\n",
    "    return reshaped\n",
    "    \n",
    "reshape_images(mnist.train.images[0:3]).shape\n"
   ]
  },
  {
   "cell_type": "code",
   "execution_count": 165,
   "metadata": {},
   "outputs": [
    {
     "name": "stdout",
     "output_type": "stream",
     "text": [
      "number of training examples = 55000\n",
      "number of validation examples = 5000\n",
      "number of test examples = 10000\n",
      "Input images are of size = (28, 28)\n"
     ]
    }
   ],
   "source": [
    "print(\"number of training examples = \" + str(mnist.train.images.shape[0]))\n",
    "print(\"number of validation examples = \" + str(mnist.validation.images.shape[0]))\n",
    "print(\"number of test examples = \" + str(mnist.test.images.shape[0]))\n",
    "print(\"Input images are of size = \" + str(mnist.train.images[0].reshape(28,28).shape))"
   ]
  },
  {
   "cell_type": "code",
   "execution_count": 223,
   "metadata": {},
   "outputs": [
    {
     "name": "stdout",
     "output_type": "stream",
     "text": [
      "[[ 0.00277795 -0.00047347 -0.00941613]\n",
      " [ 0.00366754  0.00153648 -0.00412454]\n",
      " [-0.0061554  -0.00078805  0.00019837]]\n"
     ]
    },
    {
     "data": {
      "text/plain": [
       "array([[0.00277795, 0.        , 0.        ],\n",
       "       [0.00366754, 0.00153648, 0.        ],\n",
       "       [0.        , 0.        , 0.00019837]])"
      ]
     },
     "execution_count": 223,
     "metadata": {},
     "output_type": "execute_result"
    }
   ],
   "source": [
    "aaa = np.random.normal(scale=0.01, size=(3,3))\n",
    "print(aaa)\n",
    "def relu(num):\n",
    "    return np.max([num,0])\n",
    "relu_layer = np.vectorize(relu)\n",
    "\n",
    "#test\n",
    "relu_layer(aaa)"
   ]
  },
  {
   "cell_type": "code",
   "execution_count": 224,
   "metadata": {},
   "outputs": [
    {
     "name": "stdout",
     "output_type": "stream",
     "text": [
      "[[-0.02285293 -0.00717831  0.00523548]\n",
      " [ 0.01581124  0.00822494  0.00711687]\n",
      " [ 0.0024365   0.01192195 -0.00652337]]\n"
     ]
    },
    {
     "data": {
      "text/plain": [
       "0.01581124276079739"
      ]
     },
     "execution_count": 224,
     "metadata": {},
     "output_type": "execute_result"
    }
   ],
   "source": [
    "aaa = np.random.normal(scale=0.01, size=(3,3))\n",
    "print(aaa)\n",
    "\n",
    "def max_pool(grid):\n",
    "    return np.max(grid)\n",
    "\n",
    "# test\n",
    "max_pool(aaa)"
   ]
  },
  {
   "cell_type": "code",
   "execution_count": 233,
   "metadata": {
    "collapsed": true
   },
   "outputs": [],
   "source": [
    "class conv_net(object):\n",
    "    \"\"\"\n",
    "    class for a convolutional neural network.\n",
    "    \n",
    "    layers:\n",
    "    input layer \n",
    "                - the image, size (28, 28)\n",
    "    conv layer \n",
    "                - weights W1 \n",
    "                - padding 'VALID', stride 2\n",
    "                - size(4, 4)\n",
    "                - output size (16, 16)\n",
    "    relu layer \n",
    "                - output size (16, 16)\n",
    "    max_pool\n",
    "                - padding 'VALID', stride 2\n",
    "                - size (4, 4)\n",
    "                - output will be (8, 8)\n",
    "    conv layer \n",
    "                - weights W2 \n",
    "                - padding 'VALID', stride 2\n",
    "                - size(2, 2)\n",
    "                - output size (4, 4)\n",
    "    relu layer\n",
    "                - output size (4, 4)\n",
    "    max_pool\n",
    "                - padding 'VALID', stride 2\n",
    "                - size (2, 2)\n",
    "                - output size (2, 2)\n",
    "    reshape layer\n",
    "                - reshape to size (4,)\n",
    "    fully connected layer\n",
    "                - weights W3\n",
    "                - size (40)\n",
    "                - output size (10,)\n",
    "\n",
    "    \"\"\"\n",
    "    def __init__(self, seed):\n",
    "        self.seed = seed\n",
    "    \n",
    "    def set_seed(self):\n",
    "        np.random.seed(self.seed)\n",
    "    \n",
    "    def initialise_weights(self):\n",
    "        self.W1 = np.random.normal(scale=0.01, size=(4,4))\n",
    "        self.W2 = np.random.normal(scale=0.01, size=(2,2))\n",
    "        self.W3 = np.random.normal(scale=0.01, size=(40,))\n",
    "    \n",
    "    def forward_pass(image):\n",
    "        "
   ]
  },
  {
   "cell_type": "code",
   "execution_count": 239,
   "metadata": {},
   "outputs": [
    {
     "data": {
      "text/plain": [
       "array([[ 0.0270685 ,  0.00628133,  0.00907969],\n",
       "       [ 0.00503826,  0.00651118, -0.00319318],\n",
       "       [-0.00848077,  0.00605965, -0.02018168]])"
      ]
     },
     "execution_count": 239,
     "metadata": {},
     "output_type": "execute_result"
    }
   ],
   "source": [
    "qq = conv_net(101)\n",
    "qq.set_seed()\n",
    "qq.initialise_weights()\n",
    "qq.W1"
   ]
  },
  {
   "cell_type": "code",
   "execution_count": null,
   "metadata": {
    "collapsed": true
   },
   "outputs": [],
   "source": [
    "# create network\n",
    "np.random.seed(10)\n",
    "# structure will be\n",
    "#\n",
    "# CONV2D: stride of 1, padding 'SAME' (padding of 1 around)\n",
    "# so output will be (28, 28)\n",
    "Z1 = np.random.normal(scale=0.01, size=(3,3))\n",
    "# RELU \n",
    "# applies max(num, 0) to each element, output (28, 28)\n",
    "# apply to Z1\n",
    "A1 = relu_layer(Z1)\n",
    "# MAXPOOL: window 4x4, sride 4, padding 'SAME', (2 around)\n",
    "# out_height = ceil(float(in_height) / float(strides[1]))\n",
    "# out_width = ceil(float(in_width) / float(strides[2]))\n",
    "# so output will be (7, 7)\n",
    "P1 = max_pool(A1)\n",
    "# CONV2D: filters W2, stride 1, padding 'SAME'\n",
    "# grid of 3 by 3, padding of 1 around, output will be (7, 7)\n",
    "Z2 = np.random.normal(scale=0.01, size=(3,3))\n",
    "# RELU, again output will be (7, 7)\n",
    "A2 = relu_layer(Z2)\n",
    "# MAXPOOL: window 3x3, stride 2, padding 'SAME' (padding of 1)\n",
    "# output size (4, 4)\n",
    "P2 = None\n",
    "# FLATTEN\n",
    "# reshape into 1 dimension\n",
    "# output 16\n",
    "P2 = None # np.random.normal(scale=0.01, size=(16,))\n",
    "# FULLY-CONNECTED without non-linear activation function (not not call softmax).\n",
    "# 6 neurons in output layer. Hint: one of the arguments should be \"activation_fn=None\" \n",
    "Z3 = None\n"
   ]
  },
  {
   "cell_type": "code",
   "execution_count": null,
   "metadata": {},
   "outputs": [],
   "source": []
  },
  {
   "cell_type": "code",
   "execution_count": null,
   "metadata": {
    "collapsed": true
   },
   "outputs": [],
   "source": []
  },
  {
   "cell_type": "code",
   "execution_count": null,
   "metadata": {
    "collapsed": true
   },
   "outputs": [],
   "source": []
  }
 ],
 "metadata": {
  "kernelspec": {
   "display_name": "Python 3",
   "language": "python",
   "name": "python3"
  },
  "language_info": {
   "codemirror_mode": {
    "name": "ipython",
    "version": 3
   },
   "file_extension": ".py",
   "mimetype": "text/x-python",
   "name": "python",
   "nbconvert_exporter": "python",
   "pygments_lexer": "ipython3",
   "version": "3.6.1"
  }
 },
 "nbformat": 4,
 "nbformat_minor": 2
}
